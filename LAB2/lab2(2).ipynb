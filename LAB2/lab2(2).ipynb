{
  "nbformat": 4,
  "nbformat_minor": 0,
  "metadata": {
    "colab": {
      "provenance": []
    },
    "kernelspec": {
      "name": "python3",
      "display_name": "Python 3"
    },
    "language_info": {
      "name": "python"
    }
  },
  "cells": [
    {
      "cell_type": "code",
      "source": [
        "import re\n",
        "import random\n",
        "from graphviz import Digraph\n",
        "\n",
        "# Read noun list and keep only alphabetic words\n",
        "with open(\"brown_nouns.txt\") as f:\n",
        "    nouns = sorted(\n",
        "        set(\n",
        "            w.strip().lower()\n",
        "            for w in f\n",
        "            if w.strip() and re.match(r'^[a-zA-Z]+$', w.strip())\n",
        "        )\n",
        "    )\n",
        "\n",
        "# Irregular plural mapping\n",
        "irregular_plurals = {\n",
        "    \"men\": \"man\",\n",
        "    \"women\": \"woman\",\n",
        "    \"children\": \"child\",\n",
        "    \"teeth\": \"tooth\",\n",
        "    \"feet\": \"foot\",\n",
        "    \"mice\": \"mouse\",\n",
        "    \"geese\": \"goose\",\n",
        "    \"oxen\": \"ox\",\n",
        "    \"lice\": \"louse\",\n",
        "    \"data\": \"datum\",\n",
        "    \"indices\": \"index\",\n",
        "    \"appendices\": \"appendix\",\n",
        "    \"criteria\": \"criterion\",\n",
        "    \"phenomena\": \"phenomenon\",\n",
        "    \"buses\": \"bus\",\n",
        "    \"bus\": \"bus\"\n",
        "}\n",
        "\n",
        "# Regular plural → singular\n",
        "def singularize(word):\n",
        "    if word.endswith(\"ies\") and len(word) > 3:\n",
        "        return word[:-3] + \"y\"\n",
        "    elif word.endswith(\"es\") and len(word) > 2:\n",
        "        return word[:-2]\n",
        "    elif word.endswith(\"s\") and len(word) > 1:\n",
        "        return word[:-1]\n",
        "    return word\n"
      ],
      "metadata": {
        "id": "jqw8ZjPspvMF"
      },
      "execution_count": 10,
      "outputs": []
    },
    {
      "cell_type": "code",
      "source": [
        "results = []\n",
        "\n",
        "for word in nouns:\n",
        "    if word in irregular_plurals:  # irregular plural form\n",
        "        root = irregular_plurals[word]\n",
        "        results.append(f\"{word} -> {root}+N+PL\")\n",
        "    elif word in irregular_plurals.values():  # irregular singular form\n",
        "        plural = [pl for pl, sg in irregular_plurals.items() if sg == word][0]\n",
        "        results.append(f\"{word} -> {word}+N+SG\")\n",
        "        results.append(f\"{plural} -> {word}+N+PL\")\n",
        "    else:\n",
        "        root = singularize(word)\n",
        "        if root != word:  # regular plural\n",
        "            results.append(f\"{word} -> {root}+N+PL\")\n",
        "        else:  # singular form\n",
        "            results.append(f\"{word} -> {word}+N+SG\")\n",
        "            # Generate plural using rules\n",
        "            if word.endswith(\"y\") and len(word) > 1 and word[-2] not in \"aeiou\":\n",
        "                plural = word[:-1] + \"ies\"\n",
        "            elif word.endswith((\"s\", \"x\", \"z\", \"ch\", \"sh\")):\n",
        "                plural = word + \"es\"\n",
        "            else:\n",
        "                plural = word + \"s\"\n",
        "            results.append(f\"{plural} -> {word}+N+PL\")\n",
        "\n",
        "# Save results\n",
        "with open(\"output2(2).txt\", \"w\") as f:\n",
        "    f.write(\"\\n\".join(results))\n",
        "\n",
        "print(f\" output.txt saved with {len(results)} entries\")\n"
      ],
      "metadata": {
        "id": "bdUYhKhqnUn3",
        "colab": {
          "base_uri": "https://localhost:8080/"
        },
        "outputId": "63f8c1bc-a539-484c-eeed-6aefc80d6c73"
      },
      "execution_count": 11,
      "outputs": [
        {
          "output_type": "stream",
          "name": "stdout",
          "text": [
            " output.txt saved with 28262 entries\n"
          ]
        }
      ]
    },
    {
      "cell_type": "code",
      "source": [
        "sample_words = random.sample(nouns, 10)\n",
        "\n",
        "transitions = {}\n",
        "accept_states = {}\n",
        "edge_colors = {}\n",
        "state_counter = 1\n",
        "\n",
        "for word in sample_words:\n",
        "    current_state = 0\n",
        "    for i, ch in enumerate(word):\n",
        "        is_last = (i == len(word) - 1)\n",
        "        label = ch\n",
        "        color = \"black\"\n",
        "\n",
        "        if is_last:\n",
        "            root = singularize(word)\n",
        "            if root != word:\n",
        "                if word.endswith(\"ies\"):\n",
        "                    label = f\"{ch} / replace ies→y, +N+PL\"\n",
        "                    color = \"blue\"\n",
        "                elif word.endswith(\"es\"):\n",
        "                    label = f\"{ch} / remove es, +N+PL\"\n",
        "                    color = \"red\"\n",
        "                elif word.endswith(\"s\"):\n",
        "                    label = f\"{ch} / remove s, +N+PL\"\n",
        "                    color = \"green\"\n",
        "            else:\n",
        "                label = f\"{ch} / +N+SG\"\n",
        "\n",
        "        key = (current_state, label)\n",
        "        if key not in transitions:\n",
        "            transitions[key] = state_counter\n",
        "            edge_colors[key] = color\n",
        "            current_state = state_counter\n",
        "            state_counter += 1\n",
        "        else:\n",
        "            current_state = transitions[key]\n",
        "    accept_states[current_state] = True\n"
      ],
      "metadata": {
        "id": "SwdBpe64nbth"
      },
      "execution_count": 12,
      "outputs": []
    },
    {
      "cell_type": "code",
      "source": [
        "dot = Digraph(name=\"lab2(2)dfa\", format='png')\n",
        "dot.attr(rankdir='LR', size='12,6')\n",
        "\n",
        "# State names q0, q1...\n",
        "state_names = {num: f\"q{num}\" for num in set([0] + list(transitions.values()))}\n",
        "\n",
        "# Draw states\n",
        "for num, name in state_names.items():\n",
        "    if num in accept_states:\n",
        "        dot.node(name, shape='doublecircle')\n",
        "    else:\n",
        "        dot.node(name, shape='circle')\n",
        "\n",
        "# Start arrow\n",
        "dot.node('', shape='plaintext', label='')\n",
        "dot.edge('', 'q0')\n",
        "\n",
        "# Draw edges\n",
        "for (state, label), next_state in transitions.items():\n",
        "    dot.edge(state_names[state], state_names[next_state], label=label, color=edge_colors.get((state, label), \"black\"))\n",
        "\n",
        "dot.render(\"lab(2)dfa\", cleanup=True)\n",
        "print(\" DFA saved as lab2(2)dfa.png\")\n"
      ],
      "metadata": {
        "colab": {
          "base_uri": "https://localhost:8080/"
        },
        "id": "yIxlGXCr0bTF",
        "outputId": "f5b54f08-1ae9-4ee7-a763-e0cbb666cd41"
      },
      "execution_count": 13,
      "outputs": [
        {
          "output_type": "stream",
          "name": "stdout",
          "text": [
            " DFA saved as lab2(2)dfa.png\n"
          ]
        }
      ]
    }
  ]
}