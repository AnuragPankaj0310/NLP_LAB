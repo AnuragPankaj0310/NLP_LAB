{
  "cells": [
    {
      "cell_type": "code",
      "metadata": {
        "colab": {
          "base_uri": "https://localhost:8080/"
        },
        "id": "469ab0d0",
        "outputId": "3b4f91fa-c385-4ab2-adf0-f3cb152b2097"
      },
      "source": [
        "%pip install automathon"
      ],
      "execution_count": 7,
      "outputs": [
        {
          "output_type": "stream",
          "name": "stdout",
          "text": [
            "Requirement already satisfied: automathon in /usr/local/lib/python3.11/dist-packages (0.0.15)\n",
            "Requirement already satisfied: graphviz==0.16 in /usr/local/lib/python3.11/dist-packages (from automathon) (0.16)\n"
          ]
        }
      ]
    },
    {
      "cell_type": "code",
      "source": [
        "import string\n",
        "from automathon import DFA\n",
        "from graphviz import Digraph"
      ],
      "metadata": {
        "id": "BgNIeFeYdvgA"
      },
      "execution_count": 8,
      "outputs": []
    },
    {
      "cell_type": "code",
      "source": [
        "allowed_chars = set(string.ascii_lowercase + \"_\")\n",
        "blocked_chars = {ch for ch in string.printable if ch not in allowed_chars}\n",
        "unsafe_for_dot = {'\"', '\\\\', '\\n', '\\t', '\\r', '\\x0b', '\\x0c'}\n",
        "blocked_chars = {ch for ch in blocked_chars if ch not in unsafe_for_dot}\n",
        "alphabet = allowed_chars | blocked_chars\n",
        "\n",
        "q0_to_q1 = {ch: 'q1' for ch in string.ascii_lowercase}\n",
        "q0_to_q2 = {ch: 'q2' for ch in (blocked_chars | {'_'})}\n",
        "q0_transitions = {**q0_to_q1, **q0_to_q2}\n",
        "\n",
        "q1_loop = {ch: 'q1' for ch in allowed_chars}\n",
        "q1_to_q2 = {ch: 'q2' for ch in blocked_chars}\n",
        "q1_transitions = {**q1_loop, **q1_to_q2}\n",
        "\n",
        "q2_transitions = {ch: 'q2' for ch in blocked_chars | allowed_chars}"
      ],
      "metadata": {
        "id": "YRm4E1_Ndwjf"
      },
      "execution_count": 9,
      "outputs": []
    },
    {
      "cell_type": "code",
      "source": [
        "states = {'q0', 'q1', 'q2'}\n",
        "delta = {\n",
        "    'q0': q0_transitions,\n",
        "    'q1': q1_transitions,\n",
        "    'q2': q2_transitions\n",
        "}\n",
        "start_state = 'q0'\n",
        "accept_states = {'q0', 'q1'}\n",
        "\n",
        "dfa = DFA(states, alphabet, delta, start_state, accept_states)\n",
        "dfa.is_valid()\n"
      ],
      "metadata": {
        "colab": {
          "base_uri": "https://localhost:8080/"
        },
        "id": "XlhURi-od1aB",
        "outputId": "582ffb31-58e2-4029-89c5-c6975c224f55"
      },
      "execution_count": 10,
      "outputs": [
        {
          "output_type": "execute_result",
          "data": {
            "text/plain": [
              "True"
            ]
          },
          "metadata": {},
          "execution_count": 10
        }
      ]
    },
    {
      "cell_type": "code",
      "source": [
        "results = []\n",
        "with open('brown_nouns.txt', 'r') as infile:\n",
        "    for word in map(str.strip, infile):\n",
        "        results.append(\"Accepted\" if dfa.accept(word) else \"Not Accepted\")\n",
        "\n",
        "with open('results2(1).txt', 'w') as outfile:\n",
        "    outfile.write(\"\\n\".join(results))\n",
        "\n",
        "def fmt(symbols):\n",
        "    return ', '.join(sorted(symbols))\n"
      ],
      "metadata": {
        "id": "ggyrntNGd6WJ"
      },
      "execution_count": 11,
      "outputs": []
    },
    {
      "cell_type": "code",
      "source": [
        "dot = Digraph(name=\"DFA\", format='png')\n",
        "dot.attr(rankdir='LR', size='10,5', fontsize='20')\n",
        "dot.node('q0')\n",
        "dot.node('q1', shape='doublecircle')\n",
        "dot.node('q2')\n",
        "dot.node('', shape='plaintext', label='')\n",
        "dot.edge('', 'q0')\n",
        "dot.edge('q0', 'q1', label=fmt(set(string.ascii_lowercase)))\n",
        "dot.edge('q0', 'q2', label=fmt(blocked_chars | {'_'}))\n",
        "dot.edge('q1', 'q1', label=fmt(allowed_chars))\n",
        "dot.edge('q1', 'q2', label=fmt(blocked_chars))\n",
        "dot.edge('q2', 'q2', label=fmt(blocked_chars | allowed_chars))\n",
        "dot.render('lab2(1)', view=True)"
      ],
      "metadata": {
        "colab": {
          "base_uri": "https://localhost:8080/",
          "height": 36
        },
        "id": "0_FqN7_fd7NX",
        "outputId": "8bd0ab05-8256-4afe-9cb0-6915cd4fad4e"
      },
      "execution_count": 12,
      "outputs": [
        {
          "output_type": "execute_result",
          "data": {
            "text/plain": [
              "'lab2(1).png'"
            ],
            "application/vnd.google.colaboratory.intrinsic+json": {
              "type": "string"
            }
          },
          "metadata": {},
          "execution_count": 12
        }
      ]
    }
  ],
  "metadata": {
    "colab": {
      "provenance": []
    },
    "kernelspec": {
      "display_name": "Python 3",
      "name": "python3"
    },
    "language_info": {
      "codemirror_mode": {
        "name": "ipython",
        "version": 3
      },
      "file_extension": ".py",
      "mimetype": "text/x-python",
      "name": "python",
      "nbconvert_exporter": "python",
      "pygments_lexer": "ipython3",
      "version": "3.13.2"
    }
  },
  "nbformat": 4,
  "nbformat_minor": 0
}